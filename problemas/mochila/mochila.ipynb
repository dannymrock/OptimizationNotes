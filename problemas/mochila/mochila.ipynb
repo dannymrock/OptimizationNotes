{
 "cells": [
  {
   "cell_type": "markdown",
   "metadata": {},
   "source": [
    "# Problema de la mochila"
   ]
  },
  {
   "cell_type": "markdown",
   "metadata": {},
   "source": [
    "Antes de empezar\n",
    "\n",
    "https://pypi.org/project/minizinc/\n",
    "\n",
    "```\n",
    "pip install minizinc\n",
    "```\n",
    "\n",
    "https://github.com/MiniZinc/iminizinc\n",
    "\n",
    "```\n",
    "pip install -U iminizinc\n",
    "```"
   ]
  },
  {
   "cell_type": "markdown",
   "metadata": {},
   "source": [
    "Es necesario cuadrar la notacion en latex de acuerdo al enunciado\n",
    "\n",
    "\\begin{equation}\n",
    "\\begin{aligned}\n",
    "& \\underset{x}{\\text{min}}\n",
    "& & c^T x \\\\\n",
    "& \\text{s.t.} & &  Ax \\leq b_i \\\\\n",
    "& & &  \\sum_{i=1}^{n} x_i =1 \\\\\n",
    "& & &  x_j, \\; \\forall j \\in N. \\\\\n",
    "\\end{aligned}\n",
    "\\end{equation}"
   ]
  },
  {
   "cell_type": "code",
   "execution_count": 63,
   "metadata": {},
   "outputs": [],
   "source": [
    "import os"
   ]
  },
  {
   "cell_type": "code",
   "execution_count": 64,
   "metadata": {},
   "outputs": [
    {
     "name": "stdout",
     "output_type": "stream",
     "text": [
      "['mochila.mzn']\n"
     ]
    }
   ],
   "source": [
    "archivos_mzn = [f for f in os.listdir() if 'mzn' in f]\n",
    "print(archivos_mzn)"
   ]
  },
  {
   "cell_type": "code",
   "execution_count": 65,
   "metadata": {
    "scrolled": false
   },
   "outputs": [
    {
     "name": "stdout",
     "output_type": "stream",
     "text": [
      "int: N = 8;\n",
      "set of int: OBJ = 1..N;\n",
      "int: capacity;\n",
      "array[int] of int: WEIGHTS = [3,7,4,1,5,4,2,3];\n",
      "array[int] of int: VALUES = [4,7,5,1,4,3,5,1];\n",
      "array[1..N] of var 0..1: e; \n",
      "\n",
      "constraint sum(i in OBJ)(WEIGHTS[i] * e[i]) <= capacity;\n",
      "solve maximize sum(i in OBJ)(VALUES[i] * e[i]);\n",
      "\n",
      "\n",
      "output [\"VALUES = \", show(VALUES), \"\\n\"];\n",
      "output [\"WEIGHTS = \", show(WEIGHTS), \"\\n\"];\n",
      "output [\"e = \", show(e), \"\\n\"];\n",
      "output [\"maximo = \", show(sum(i in OBJ)(VALUES[i] * e[i])), \"\\n\"];\n",
      "\n"
     ]
    }
   ],
   "source": [
    "with open(archivos_mzn[0],'r') as file:\n",
    "    knapsack_model = file.read()\n",
    "    print(knapsack_model)"
   ]
  },
  {
   "cell_type": "markdown",
   "metadata": {},
   "source": [
    "## Command line"
   ]
  },
  {
   "cell_type": "code",
   "execution_count": 105,
   "metadata": {},
   "outputs": [
    {
     "name": "stdout",
     "output_type": "stream",
     "text": [
      "VALUES = [4, 7, 5, 1, 4, 3, 5, 1]\n",
      "WEIGHTS = [3, 7, 4, 1, 5, 4, 2, 3]\n",
      "e = [0, 0, 0, 0, 0, 0, 0, 0]\n",
      "maximo = 0\n",
      "----------\n",
      "VALUES = [4, 7, 5, 1, 4, 3, 5, 1]\n",
      "WEIGHTS = [3, 7, 4, 1, 5, 4, 2, 3]\n",
      "e = [1, 0, 0, 0, 0, 0, 0, 0]\n",
      "maximo = 4\n",
      "----------\n",
      "VALUES = [4, 7, 5, 1, 4, 3, 5, 1]\n",
      "WEIGHTS = [3, 7, 4, 1, 5, 4, 2, 3]\n",
      "e = [0, 1, 0, 0, 0, 0, 0, 0]\n",
      "maximo = 7\n",
      "----------\n",
      "VALUES = [4, 7, 5, 1, 4, 3, 5, 1]\n",
      "WEIGHTS = [3, 7, 4, 1, 5, 4, 2, 3]\n",
      "e = [1, 0, 1, 0, 0, 0, 0, 0]\n",
      "maximo = 9\n",
      "----------\n",
      "VALUES = [4, 7, 5, 1, 4, 3, 5, 1]\n",
      "WEIGHTS = [3, 7, 4, 1, 5, 4, 2, 3]\n",
      "e = [1, 0, 1, 1, 0, 0, 0, 0]\n",
      "maximo = 10\n",
      "----------\n",
      "VALUES = [4, 7, 5, 1, 4, 3, 5, 1]\n",
      "WEIGHTS = [3, 7, 4, 1, 5, 4, 2, 3]\n",
      "e = [0, 1, 0, 0, 0, 0, 1, 0]\n",
      "maximo = 12\n",
      "----------\n",
      "VALUES = [4, 7, 5, 1, 4, 3, 5, 1]\n",
      "WEIGHTS = [3, 7, 4, 1, 5, 4, 2, 3]\n",
      "e = [1, 0, 1, 0, 0, 0, 1, 0]\n",
      "maximo = 14\n",
      "----------\n",
      "==========\n"
     ]
    }
   ],
   "source": [
    "c = 9\n",
    "!minizinc -a -D capacity={c} mochila.mzn"
   ]
  },
  {
   "cell_type": "markdown",
   "metadata": {},
   "source": [
    "## Python minizinc package\n",
    "\n",
    "Ver ejemplo en: https://pypi.org/project/minizinc/"
   ]
  },
  {
   "cell_type": "code",
   "execution_count": 83,
   "metadata": {},
   "outputs": [],
   "source": [
    "import minizinc"
   ]
  },
  {
   "cell_type": "code",
   "execution_count": 84,
   "metadata": {},
   "outputs": [],
   "source": [
    "# Create a MiniZinc modelm\n",
    "model = minizinc.Model()\n",
    "model.add_string(knapsack_model)"
   ]
  },
  {
   "cell_type": "code",
   "execution_count": 85,
   "metadata": {
    "scrolled": true
   },
   "outputs": [],
   "source": [
    "# Transform Model into a instance\n",
    "gecode = minizinc.Solver.lookup(\"gecode\")\n",
    "inst = minizinc.Instance(gecode, model)\n",
    "inst[\"capacity\"] = 14"
   ]
  },
  {
   "cell_type": "code",
   "execution_count": 86,
   "metadata": {},
   "outputs": [
    {
     "ename": "RuntimeError",
     "evalue": "the synchronous MiniZinc Python `solve()` method was called from an asynchronous environment.\n\nBecause Python's asyncio library does not support using multiple event loops that would be required to use this method, we instead suggest you use the `solve_async()' method or patch Python behaviour with a package such as `nested_asyncio'.\n\nOriginal message: asyncio.run() cannot be called from a running event loop",
     "output_type": "error",
     "traceback": [
      "\u001b[1;31m---------------------------------------------------------------------------\u001b[0m",
      "\u001b[1;31mRuntimeError\u001b[0m                              Traceback (most recent call last)",
      "File \u001b[1;32mc:\\Python311\\Lib\\site-packages\\minizinc\\instance.py:183\u001b[0m, in \u001b[0;36mInstance.solve\u001b[1;34m(self, timeout, nr_solutions, processes, random_seed, all_solutions, intermediate_solutions, free_search, optimisation_level, **kwargs)\u001b[0m\n\u001b[0;32m    182\u001b[0m         asyncio\u001b[38;5;241m.\u001b[39mset_event_loop_policy(asyncio\u001b[38;5;241m.\u001b[39mWindowsProactorEventLoopPolicy())\n\u001b[1;32m--> 183\u001b[0m     \u001b[38;5;28;01mreturn\u001b[39;00m \u001b[43masyncio\u001b[49m\u001b[38;5;241;43m.\u001b[39;49m\u001b[43mrun\u001b[49m\u001b[43m(\u001b[49m\u001b[43mcoroutine\u001b[49m\u001b[43m)\u001b[49m\n\u001b[0;32m    184\u001b[0m \u001b[38;5;28;01mexcept\u001b[39;00m \u001b[38;5;167;01mRuntimeError\u001b[39;00m \u001b[38;5;28;01mas\u001b[39;00m r:\n",
      "File \u001b[1;32mc:\\Python311\\Lib\\asyncio\\runners.py:186\u001b[0m, in \u001b[0;36mrun\u001b[1;34m(main, debug)\u001b[0m\n\u001b[0;32m    184\u001b[0m \u001b[38;5;28;01mif\u001b[39;00m events\u001b[38;5;241m.\u001b[39m_get_running_loop() \u001b[38;5;129;01mis\u001b[39;00m \u001b[38;5;129;01mnot\u001b[39;00m \u001b[38;5;28;01mNone\u001b[39;00m:\n\u001b[0;32m    185\u001b[0m     \u001b[38;5;66;03m# fail fast with short traceback\u001b[39;00m\n\u001b[1;32m--> 186\u001b[0m     \u001b[38;5;28;01mraise\u001b[39;00m \u001b[38;5;167;01mRuntimeError\u001b[39;00m(\n\u001b[0;32m    187\u001b[0m         \u001b[38;5;124m\"\u001b[39m\u001b[38;5;124masyncio.run() cannot be called from a running event loop\u001b[39m\u001b[38;5;124m\"\u001b[39m)\n\u001b[0;32m    189\u001b[0m \u001b[38;5;28;01mwith\u001b[39;00m Runner(debug\u001b[38;5;241m=\u001b[39mdebug) \u001b[38;5;28;01mas\u001b[39;00m runner:\n",
      "\u001b[1;31mRuntimeError\u001b[0m: asyncio.run() cannot be called from a running event loop",
      "\nThe above exception was the direct cause of the following exception:\n",
      "\u001b[1;31mRuntimeError\u001b[0m                              Traceback (most recent call last)",
      "Cell \u001b[1;32mIn[86], line 4\u001b[0m\n\u001b[0;32m      2\u001b[0m \u001b[38;5;28;01mfor\u001b[39;00m i \u001b[38;5;129;01min\u001b[39;00m \u001b[38;5;28mrange\u001b[39m(\u001b[38;5;241m1\u001b[39m,\u001b[38;5;241m10\u001b[39m\u001b[38;5;241m+\u001b[39m\u001b[38;5;241m1\u001b[39m):\n\u001b[0;32m      3\u001b[0m     inst[\u001b[38;5;124m'\u001b[39m\u001b[38;5;124me\u001b[39m\u001b[38;5;124m'\u001b[39m] \u001b[38;5;241m=\u001b[39m i\n\u001b[1;32m----> 4\u001b[0m     result \u001b[38;5;241m=\u001b[39m \u001b[43minst\u001b[49m\u001b[38;5;241;43m.\u001b[39;49m\u001b[43msolve\u001b[49m\u001b[43m(\u001b[49m\u001b[43m)\u001b[49m\n\u001b[0;32m      5\u001b[0m     \u001b[38;5;28mprint\u001b[39m(result)\n",
      "File \u001b[1;32mc:\\Python311\\Lib\\site-packages\\minizinc\\instance.py:186\u001b[0m, in \u001b[0;36mInstance.solve\u001b[1;34m(self, timeout, nr_solutions, processes, random_seed, all_solutions, intermediate_solutions, free_search, optimisation_level, **kwargs)\u001b[0m\n\u001b[0;32m    184\u001b[0m \u001b[38;5;28;01mexcept\u001b[39;00m \u001b[38;5;167;01mRuntimeError\u001b[39;00m \u001b[38;5;28;01mas\u001b[39;00m r:\n\u001b[0;32m    185\u001b[0m     \u001b[38;5;28;01mif\u001b[39;00m \u001b[38;5;124m\"\u001b[39m\u001b[38;5;124mcalled from a running event loop\u001b[39m\u001b[38;5;124m\"\u001b[39m \u001b[38;5;129;01min\u001b[39;00m r\u001b[38;5;241m.\u001b[39margs[\u001b[38;5;241m0\u001b[39m]:\n\u001b[1;32m--> 186\u001b[0m         \u001b[38;5;28;01mraise\u001b[39;00m \u001b[38;5;167;01mRuntimeError\u001b[39;00m(\n\u001b[0;32m    187\u001b[0m             \u001b[38;5;124m\"\u001b[39m\u001b[38;5;124mthe synchronous MiniZinc Python `solve()` method was called from\u001b[39m\u001b[38;5;124m\"\u001b[39m\n\u001b[0;32m    188\u001b[0m             \u001b[38;5;124m\"\u001b[39m\u001b[38;5;124m an asynchronous environment.\u001b[39m\u001b[38;5;130;01m\\n\u001b[39;00m\u001b[38;5;130;01m\\n\u001b[39;00m\u001b[38;5;124mBecause Python\u001b[39m\u001b[38;5;124m'\u001b[39m\u001b[38;5;124ms asyncio library\u001b[39m\u001b[38;5;124m\"\u001b[39m\n\u001b[0;32m    189\u001b[0m             \u001b[38;5;124m\"\u001b[39m\u001b[38;5;124m does not support using multiple event loops that would be\u001b[39m\u001b[38;5;124m\"\u001b[39m\n\u001b[0;32m    190\u001b[0m             \u001b[38;5;124m\"\u001b[39m\u001b[38;5;124m required to use this method, we instead suggest you use the\u001b[39m\u001b[38;5;124m\"\u001b[39m\n\u001b[0;32m    191\u001b[0m             \u001b[38;5;124m\"\u001b[39m\u001b[38;5;124m `solve_async()\u001b[39m\u001b[38;5;124m'\u001b[39m\u001b[38;5;124m method or patch Python behaviour with a package\u001b[39m\u001b[38;5;124m\"\u001b[39m\n\u001b[0;32m    192\u001b[0m             \u001b[38;5;124m\"\u001b[39m\u001b[38;5;124m such as `nested_asyncio\u001b[39m\u001b[38;5;124m'\u001b[39m\u001b[38;5;124m.\u001b[39m\u001b[38;5;130;01m\\n\u001b[39;00m\u001b[38;5;130;01m\\n\u001b[39;00m\u001b[38;5;124mOriginal message: \u001b[39m\u001b[38;5;124m\"\u001b[39m \u001b[38;5;241m+\u001b[39m \u001b[38;5;28mstr\u001b[39m(r)\n\u001b[0;32m    193\u001b[0m         ) \u001b[38;5;28;01mfrom\u001b[39;00m \u001b[38;5;21;01mr\u001b[39;00m\n\u001b[0;32m    194\u001b[0m     \u001b[38;5;28;01melse\u001b[39;00m:\n\u001b[0;32m    195\u001b[0m         \u001b[38;5;28;01mraise\u001b[39;00m r\n",
      "\u001b[1;31mRuntimeError\u001b[0m: the synchronous MiniZinc Python `solve()` method was called from an asynchronous environment.\n\nBecause Python's asyncio library does not support using multiple event loops that would be required to use this method, we instead suggest you use the `solve_async()' method or patch Python behaviour with a package such as `nested_asyncio'.\n\nOriginal message: asyncio.run() cannot be called from a running event loop"
     ]
    }
   ],
   "source": [
    "# # RuntimeError: asyncio.run() cannot be called from a running event loop\n",
    "# for i in range(1,10+1):\n",
    "#    inst['e'] = i\n",
    "#    result = inst.solve()\n",
    "#    print(result)"
   ]
  },
  {
   "cell_type": "code",
   "execution_count": 41,
   "metadata": {
    "scrolled": false
   },
   "outputs": [],
   "source": [
    "# # RuntimeError: asyncio.run() cannot be called from a running event loop\n",
    "# for i in range(1,10+1):\n",
    "#     inst['n'] = i\n",
    "#     result = inst.solve()\n",
    "#     print(result)"
   ]
  },
  {
   "cell_type": "markdown",
   "metadata": {},
   "source": [
    "## IPython MiniZinc extension"
   ]
  },
  {
   "cell_type": "markdown",
   "metadata": {},
   "source": [
    "[IPython MiniZinc extension](https://github.com/MiniZinc/iminizinc)"
   ]
  },
  {
   "cell_type": "code",
   "execution_count": 87,
   "metadata": {
    "scrolled": false
   },
   "outputs": [
    {
     "name": "stdout",
     "output_type": "stream",
     "text": [
      "The iminizinc extension is already loaded. To reload it, use:\n",
      "  %reload_ext iminizinc\n"
     ]
    }
   ],
   "source": [
    "%load_ext iminizinc"
   ]
  },
  {
   "cell_type": "code",
   "execution_count": 103,
   "metadata": {},
   "outputs": [
    {
     "name": "stdout",
     "output_type": "stream",
     "text": [
      "\u001b[1;31mDocstring:\u001b[0m\n",
      "::\n",
      "\n",
      "  %minizinc [-v] [-s] [-m {return,bind}] [-a] [-t TIME_LIMIT]\n",
      "                [--solver SOLVER] [--data [DATA ...]]\n",
      "                [model ...]\n",
      "\n",
      "MiniZinc magic\n",
      "\n",
      "positional arguments:\n",
      "  model                 Model to solve\n",
      "\n",
      "options:\n",
      "  -v, --verbose         Verbose output\n",
      "  -s, --statistics      Output statistics\n",
      "  -m <{return,bind}>, --solution-mode <{return,bind}>\n",
      "                        Whether to return solution(s) or bind them to\n",
      "                        variables\n",
      "  -a, --all-solutions   Return all solutions for satisfaction problems,\n",
      "                        intermediate solutions for optimisation problems.\n",
      "                        Implies -o.\n",
      "  -t TIME_LIMIT, --time-limit TIME_LIMIT\n",
      "                        Time limit in milliseconds (includes compilation and\n",
      "                        solving)\n",
      "  --solver SOLVER       Solver to run\n",
      "  --data <[DATA ...]>   Data files\n",
      "\u001b[1;31mFile:\u001b[0m      c:\\python311\\lib\\site-packages\\iminizinc\\mzn.py"
     ]
    }
   ],
   "source": [
    "%%minizinc?"
   ]
  },
  {
   "cell_type": "code",
   "execution_count": 99,
   "metadata": {},
   "outputs": [],
   "source": [
    "capacity=9"
   ]
  },
  {
   "cell_type": "code",
   "execution_count": 104,
   "metadata": {
    "scrolled": false
   },
   "outputs": [
    {
     "data": {
      "text/plain": [
       "{'e': [1, 0, 1, 0, 0, 0, 1, 0]}"
      ]
     },
     "execution_count": 104,
     "metadata": {},
     "output_type": "execute_result"
    }
   ],
   "source": [
    "%%minizinc\n",
    "int: N = 8;\n",
    "set of int: OBJ = 1..N;\n",
    "int: capacity;\n",
    "array[int] of int: WEIGHTS = [3,7,4,1,5,4,2,3];\n",
    "array[int] of int: VALUES = [4,7,5,1,4,3,5,1];\n",
    "array[1..N] of var 0..1: e; \n",
    "\n",
    "constraint sum(i in OBJ)(WEIGHTS[i] * e[i]) <= capacity;\n",
    "solve maximize sum(i in OBJ)(VALUES[i] * e[i]);"
   ]
  }
 ],
 "metadata": {
  "kernelspec": {
   "display_name": "Python 3",
   "language": "python",
   "name": "python3"
  },
  "language_info": {
   "codemirror_mode": {
    "name": "ipython",
    "version": 3
   },
   "file_extension": ".py",
   "mimetype": "text/x-python",
   "name": "python",
   "nbconvert_exporter": "python",
   "pygments_lexer": "ipython3",
   "version": "3.11.5"
  }
 },
 "nbformat": 4,
 "nbformat_minor": 4
}
